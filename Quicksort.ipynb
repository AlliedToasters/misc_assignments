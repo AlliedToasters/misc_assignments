{
 "cells": [
  {
   "cell_type": "code",
   "execution_count": 1,
   "metadata": {
    "collapsed": true
   },
   "outputs": [],
   "source": [
    "import time\n",
    "import random\n",
    "import gc\n",
    "\n",
    "# Set seed.\n",
    "random.seed(a=100)\n",
    "\n",
    "# Create our default list.\n",
    "short_list = list(random.sample(range(1000000), 10))\n",
    "long_list = list(random.sample(range(1000000), 10000))"
   ]
  },
  {
   "cell_type": "markdown",
   "metadata": {},
   "source": [
    "## Quicksort\n",
    "Quicksort is an old and reliable sorting algorithm. It is similar to merge sort in that it is a \"divide and conquer\" approach. It relies on partitioning the data around a value called the \"pivot.\" For simplicity, this value is often taken to be the last (i=-1) element in the array. The partitioning function rearranges the values in the array such that all the valuse on the left are less than the pivot and all on the right are greater by iterating over the values and swapping where necessary. It finally swaps the value to the right of the partition with the pivot at the i=-1 position to achieve the required arrangement. This function edits the array in place, and returns the index where the pivot ends up.<br><br>\n",
    "The quicksort function takes an array and a lower and upper index. It calls the partition function and records the returned index of where the pivot ends up. It then calls itself recursively twice; once on the \"left\" with the lower and pivot-1 indices, and once on the right with the pivit+1 and upper indices.<br><br>\n",
    "The only part of the algorithm that can be improved is the selection of the pivot. A good one gives good performance while a bad one can give $O(n^{2})$ complexity. In almost any situation, you have to <I>intentionally try</I> to actually run into the worst-case (unless you're sorting a pre-sorted array), so an average case that's acceptable seems to almost always appear in practice."
   ]
  },
  {
   "cell_type": "code",
   "execution_count": 2,
   "metadata": {
    "collapsed": true
   },
   "outputs": [],
   "source": [
    "def partition(A, low, high, pivot=None):\n",
    "    \"\"\"Sorts list around pivot such that all values to the left\n",
    "    are smaller and all to the right are larger. Inserts pivot in between\n",
    "    partition before returning index of pivot.\n",
    "    \"\"\"\n",
    "    if pivot == None:   #If no pivot is specified\n",
    "        pivot = A[high] #set pivot to last item in array\n",
    "    else:\n",
    "        try:\n",
    "            high = A.index(pivot) #get index for pivot\n",
    "        except:\n",
    "            pivot = A[high] #if value not in list, initialize as with no pivot\n",
    "            \n",
    "    first = low-1  #first is marker on left hand side\n",
    "    \n",
    "    for j in range(low, high): #iterate over every element in list, left to right\n",
    "        if A[j] <= pivot: #if element is lower or equal to pivot (belongs on left)...\n",
    "            \n",
    "            first += 1     #iterate lower index marker\n",
    "            A[first], A[j] = A[j], A[first]  #swap with value at first to place left of pivot\n",
    "            \n",
    "    A[first+1], A[high] = A[high], A[first+1] #insert pivot between partition\n",
    "    return first + 1 #return position of pivot\n",
    "\n",
    "def quicksort(A, low, high):\n",
    "    \"\"\"quicksort! applies partition function to array and itself recursively to\n",
    "    both sides of partition.\n",
    "    \"\"\"\n",
    "    if high - low <= 1:   #End condition where subpartition length is 1 or 0.\n",
    "        return\n",
    "    sep = partition(A, low, high)  #call partition on array at indices, record pivot pos\n",
    "    quicksort(A, low, sep-1)   #recurse at left partition\n",
    "    quicksort(A, sep+1, high)   #recurse at right partition\n",
    "    return\n",
    "    "
   ]
  },
  {
   "cell_type": "markdown",
   "metadata": {},
   "source": [
    "## Sanity Check: Does it work?\n",
    "Run the algorithm on the short list and verify it's working."
   ]
  },
  {
   "cell_type": "code",
   "execution_count": 3,
   "metadata": {},
   "outputs": [
    {
     "name": "stdout",
     "output_type": "stream",
     "text": [
      "[152745, 481850, 477025, 997948, 808225, 183236, 739784, 412125, 767514, 366725]\n",
      "sorted in:  0.0004208087921142578  seconds.\n",
      "[152745, 183236, 366725, 412125, 477025, 481850, 739784, 767514, 808225, 997948]\n"
     ]
    }
   ],
   "source": [
    "lst = short_list.copy()\n",
    "print(lst)\n",
    "t1 = time.time()\n",
    "quicksort(lst, 0, len(lst)-1)\n",
    "print('sorted in: ', time.time()-t1, ' seconds.')\n",
    "print(lst)"
   ]
  },
  {
   "cell_type": "markdown",
   "metadata": {},
   "source": [
    "Looks like it worked. Now for the big check: how does it do on the long list?"
   ]
  },
  {
   "cell_type": "code",
   "execution_count": 4,
   "metadata": {},
   "outputs": [
    {
     "name": "stdout",
     "output_type": "stream",
     "text": [
      "sorted in:  0.06067252159118652  seconds.\n"
     ]
    }
   ],
   "source": [
    "lst = long_list.copy()\n",
    "t1 = time.time()\n",
    "quicksort(lst, 0, len(lst)-1)\n",
    "print('sorted in: ', time.time()-t1, ' seconds.')"
   ]
  },
  {
   "cell_type": "markdown",
   "metadata": {},
   "source": [
    "Hey, not bad. Let's finally see if what they say is true: that sorting a pre-sorted list takes a long time."
   ]
  },
  {
   "cell_type": "code",
   "execution_count": 5,
   "metadata": {},
   "outputs": [
    {
     "ename": "RecursionError",
     "evalue": "maximum recursion depth exceeded in comparison",
     "output_type": "error",
     "traceback": [
      "\u001b[0;31m---------------------------------------------------------------------------\u001b[0m",
      "\u001b[0;31mRecursionError\u001b[0m                            Traceback (most recent call last)",
      "\u001b[0;32m<ipython-input-5-c6fbda2c9387>\u001b[0m in \u001b[0;36m<module>\u001b[0;34m()\u001b[0m\n\u001b[1;32m      1\u001b[0m \u001b[0mt1\u001b[0m \u001b[0;34m=\u001b[0m \u001b[0mtime\u001b[0m\u001b[0;34m.\u001b[0m\u001b[0mtime\u001b[0m\u001b[0;34m(\u001b[0m\u001b[0;34m)\u001b[0m\u001b[0;34m\u001b[0m\u001b[0m\n\u001b[0;32m----> 2\u001b[0;31m \u001b[0mquicksort\u001b[0m\u001b[0;34m(\u001b[0m\u001b[0mlst\u001b[0m\u001b[0;34m,\u001b[0m \u001b[0;36m0\u001b[0m\u001b[0;34m,\u001b[0m \u001b[0mlen\u001b[0m\u001b[0;34m(\u001b[0m\u001b[0mlst\u001b[0m\u001b[0;34m)\u001b[0m\u001b[0;34m-\u001b[0m\u001b[0;36m1\u001b[0m\u001b[0;34m)\u001b[0m\u001b[0;34m\u001b[0m\u001b[0m\n\u001b[0m\u001b[1;32m      3\u001b[0m \u001b[0mprint\u001b[0m\u001b[0;34m(\u001b[0m\u001b[0;34m'sorted in: '\u001b[0m\u001b[0;34m,\u001b[0m \u001b[0mtime\u001b[0m\u001b[0;34m.\u001b[0m\u001b[0mtime\u001b[0m\u001b[0;34m(\u001b[0m\u001b[0;34m)\u001b[0m\u001b[0;34m-\u001b[0m\u001b[0mt1\u001b[0m\u001b[0;34m,\u001b[0m \u001b[0;34m' seconds.'\u001b[0m\u001b[0;34m)\u001b[0m\u001b[0;34m\u001b[0m\u001b[0m\n",
      "\u001b[0;32m<ipython-input-2-37fb9132a40d>\u001b[0m in \u001b[0;36mquicksort\u001b[0;34m(A, low, high)\u001b[0m\n\u001b[1;32m     30\u001b[0m         \u001b[0;32mreturn\u001b[0m\u001b[0;34m\u001b[0m\u001b[0m\n\u001b[1;32m     31\u001b[0m     \u001b[0msep\u001b[0m \u001b[0;34m=\u001b[0m \u001b[0mpartition\u001b[0m\u001b[0;34m(\u001b[0m\u001b[0mA\u001b[0m\u001b[0;34m,\u001b[0m \u001b[0mlow\u001b[0m\u001b[0;34m,\u001b[0m \u001b[0mhigh\u001b[0m\u001b[0;34m)\u001b[0m  \u001b[0;31m#call partition on array at indices, record pivot pos\u001b[0m\u001b[0;34m\u001b[0m\u001b[0m\n\u001b[0;32m---> 32\u001b[0;31m     \u001b[0mquicksort\u001b[0m\u001b[0;34m(\u001b[0m\u001b[0mA\u001b[0m\u001b[0;34m,\u001b[0m \u001b[0mlow\u001b[0m\u001b[0;34m,\u001b[0m \u001b[0msep\u001b[0m\u001b[0;34m-\u001b[0m\u001b[0;36m1\u001b[0m\u001b[0;34m)\u001b[0m   \u001b[0;31m#recurse at left partition\u001b[0m\u001b[0;34m\u001b[0m\u001b[0m\n\u001b[0m\u001b[1;32m     33\u001b[0m     \u001b[0mquicksort\u001b[0m\u001b[0;34m(\u001b[0m\u001b[0mA\u001b[0m\u001b[0;34m,\u001b[0m \u001b[0msep\u001b[0m\u001b[0;34m+\u001b[0m\u001b[0;36m1\u001b[0m\u001b[0;34m,\u001b[0m \u001b[0mhigh\u001b[0m\u001b[0;34m)\u001b[0m   \u001b[0;31m#recurse at right partition\u001b[0m\u001b[0;34m\u001b[0m\u001b[0m\n\u001b[1;32m     34\u001b[0m     \u001b[0;32mreturn\u001b[0m\u001b[0;34m\u001b[0m\u001b[0m\n",
      "... last 1 frames repeated, from the frame below ...\n",
      "\u001b[0;32m<ipython-input-2-37fb9132a40d>\u001b[0m in \u001b[0;36mquicksort\u001b[0;34m(A, low, high)\u001b[0m\n\u001b[1;32m     30\u001b[0m         \u001b[0;32mreturn\u001b[0m\u001b[0;34m\u001b[0m\u001b[0m\n\u001b[1;32m     31\u001b[0m     \u001b[0msep\u001b[0m \u001b[0;34m=\u001b[0m \u001b[0mpartition\u001b[0m\u001b[0;34m(\u001b[0m\u001b[0mA\u001b[0m\u001b[0;34m,\u001b[0m \u001b[0mlow\u001b[0m\u001b[0;34m,\u001b[0m \u001b[0mhigh\u001b[0m\u001b[0;34m)\u001b[0m  \u001b[0;31m#call partition on array at indices, record pivot pos\u001b[0m\u001b[0;34m\u001b[0m\u001b[0m\n\u001b[0;32m---> 32\u001b[0;31m     \u001b[0mquicksort\u001b[0m\u001b[0;34m(\u001b[0m\u001b[0mA\u001b[0m\u001b[0;34m,\u001b[0m \u001b[0mlow\u001b[0m\u001b[0;34m,\u001b[0m \u001b[0msep\u001b[0m\u001b[0;34m-\u001b[0m\u001b[0;36m1\u001b[0m\u001b[0;34m)\u001b[0m   \u001b[0;31m#recurse at left partition\u001b[0m\u001b[0;34m\u001b[0m\u001b[0m\n\u001b[0m\u001b[1;32m     33\u001b[0m     \u001b[0mquicksort\u001b[0m\u001b[0;34m(\u001b[0m\u001b[0mA\u001b[0m\u001b[0;34m,\u001b[0m \u001b[0msep\u001b[0m\u001b[0;34m+\u001b[0m\u001b[0;36m1\u001b[0m\u001b[0;34m,\u001b[0m \u001b[0mhigh\u001b[0m\u001b[0;34m)\u001b[0m   \u001b[0;31m#recurse at right partition\u001b[0m\u001b[0;34m\u001b[0m\u001b[0m\n\u001b[1;32m     34\u001b[0m     \u001b[0;32mreturn\u001b[0m\u001b[0;34m\u001b[0m\u001b[0m\n",
      "\u001b[0;31mRecursionError\u001b[0m: maximum recursion depth exceeded in comparison"
     ]
    }
   ],
   "source": [
    "t1 = time.time()\n",
    "quicksort(lst, 0, len(lst)-1)\n",
    "print('sorted in: ', time.time()-t1, ' seconds.')"
   ]
  },
  {
   "cell_type": "markdown",
   "metadata": {},
   "source": [
    "Maximum recursion depth exceeded? Bah! I must increase the recursion depth, then!"
   ]
  },
  {
   "cell_type": "code",
   "execution_count": 6,
   "metadata": {
    "collapsed": true
   },
   "outputs": [],
   "source": [
    "import sys\n",
    "sys.setrecursionlimit(len(long_list))  #set recursion limit to length of long list."
   ]
  },
  {
   "cell_type": "markdown",
   "metadata": {},
   "source": [
    "And we'll see if it breaks my computer!"
   ]
  },
  {
   "cell_type": "code",
   "execution_count": 7,
   "metadata": {},
   "outputs": [
    {
     "name": "stdout",
     "output_type": "stream",
     "text": [
      "sorted in:  15.055406332015991  seconds.\n"
     ]
    }
   ],
   "source": [
    "t1 = time.time()\n",
    "quicksort(lst, 0, len(lst)-1)\n",
    "print('sorted in: ', time.time()-t1, ' seconds.')"
   ]
  },
  {
   "cell_type": "markdown",
   "metadata": {},
   "source": [
    "Sure enough, it does a really bad job on a pre-sorted list. Funny the way that works."
   ]
  }
 ],
 "metadata": {
  "anaconda-cloud": {},
  "hide_input": false,
  "kernelspec": {
   "display_name": "Python 3",
   "language": "python",
   "name": "python3"
  },
  "language_info": {
   "codemirror_mode": {
    "name": "ipython",
    "version": 3
   },
   "file_extension": ".py",
   "mimetype": "text/x-python",
   "name": "python",
   "nbconvert_exporter": "python",
   "pygments_lexer": "ipython3",
   "version": "3.6.1"
  }
 },
 "nbformat": 4,
 "nbformat_minor": 2
}
