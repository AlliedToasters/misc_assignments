{
 "cells": [
  {
   "cell_type": "code",
   "execution_count": 1,
   "metadata": {
    "collapsed": true
   },
   "outputs": [],
   "source": [
    "import random"
   ]
  },
  {
   "cell_type": "markdown",
   "metadata": {},
   "source": [
    "## Data Tree\n",
    "The assignment is to build a binary tree. I'll use vanilla python (just with random module for generating values) to build a tree."
   ]
  },
  {
   "cell_type": "code",
   "execution_count": 2,
   "metadata": {},
   "outputs": [],
   "source": [
    "def get_random_number(rng=(1, 100)):\n",
    "    \"\"\"Uses random module and range to produce random numbers.\"\"\"\n",
    "    return random.choice(range(rng[0], rng[1]))\n",
    "\n",
    "class Node(object):\n",
    "    \"\"\"Nodes that make up our binary tree. Each node has a value and\n",
    "    can take another node at left and right attributes to form tree.\n",
    "    All nodes but root should have parent, the node to which they stem.\n",
    "    \"\"\"\n",
    "    def __init__(self, val=None):\n",
    "        \"\"\"initialize with value. If not given, self.value=None\"\"\"\n",
    "        self.parent = None\n",
    "        self.value = val\n",
    "        self.left = None\n",
    "        self.right = None\n",
    "        \n",
    "def populate_tree(depth=4):\n",
    "    \"\"\"Builds a tree with randomly generated numbers.\"\"\"\n",
    "    root = Node(get_random_number())\n",
    "    current_layer = set({root})\n",
    "    countdown = depth\n",
    "    while countdown > 0:\n",
    "        next_layer = set()\n",
    "        countdown -= 1\n",
    "        for node in current_layer:\n",
    "            node.left = Node(get_random_number())\n",
    "            node.left.parent = node\n",
    "            next_layer.update({node.left})\n",
    "            node.right = Node(get_random_number())\n",
    "            node.right.parent = node\n",
    "            next_layer.update({node.right})\n",
    "        current_layer = next_layer\n",
    "    return root"
   ]
  },
  {
   "cell_type": "markdown",
   "metadata": {},
   "source": [
    "## Breadth-First Search\n",
    "A common way to search a binary tree is with a breadth-first search. This simply means searching every element in a \"layer\" from left to right and then moving on to the next layer. We can assign indexes to each node this way; so, the root would be index=0, root.left would be index=1, root.right would be index=2, root.left.left would be index=3, and so on."
   ]
  },
  {
   "cell_type": "code",
   "execution_count": 3,
   "metadata": {},
   "outputs": [],
   "source": [
    "def search_tree(root, index=0):\n",
    "    \"\"\"performs breadth-first search on tree and returns value\n",
    "    at input index.\n",
    "    \"\"\"\n",
    "    count = 0\n",
    "    current_layer = [root]\n",
    "    while True:\n",
    "        next_layer = []\n",
    "        ind_track = 0\n",
    "        for node in current_layer:\n",
    "            if count == index:\n",
    "                return current_layer[ind_track].value\n",
    "            count += 1\n",
    "            ind_track += 1\n",
    "        for node in current_layer:\n",
    "            next_layer.append(node.left)\n",
    "            next_layer.append(node.right)\n",
    "        del current_layer\n",
    "        current_layer = next_layer"
   ]
  },
  {
   "cell_type": "markdown",
   "metadata": {},
   "source": [
    "## Testing the breadth-first search function\n",
    "I'll print the output of my search function and then manually perform an ordered breadth-first search on the tree. If the outputs are the same, my function works."
   ]
  },
  {
   "cell_type": "code",
   "execution_count": 4,
   "metadata": {},
   "outputs": [
    {
     "name": "stdout",
     "output_type": "stream",
     "text": [
      "54\n",
      "40\n",
      "51\n",
      "53\n",
      "4\n",
      "24\n",
      "30\n",
      "29\n",
      "67\n",
      "24\n",
      "7\n",
      "19\n",
      "63\n",
      "10\n",
      "34\n"
     ]
    }
   ],
   "source": [
    "tree = populate_tree() #buil tree\n",
    "for n in range(0, 15):\n",
    "    print(search_tree(tree, index=n)) #print outputs on all indices 0-14"
   ]
  },
  {
   "cell_type": "code",
   "execution_count": 5,
   "metadata": {},
   "outputs": [
    {
     "name": "stdout",
     "output_type": "stream",
     "text": [
      "54\n",
      "40\n",
      "51\n",
      "53\n",
      "4\n",
      "24\n",
      "30\n",
      "29\n",
      "67\n",
      "24\n",
      "7\n",
      "19\n",
      "63\n",
      "10\n",
      "34\n"
     ]
    }
   ],
   "source": [
    "#Manual breadth-first search to verify:\n",
    "\n",
    "#root layer\n",
    "print(tree.value)\n",
    "#first layer\n",
    "print(tree.left.value)\n",
    "print(tree.right.value)\n",
    "#second layer\n",
    "print(tree.left.left.value)\n",
    "print(tree.left.right.value)\n",
    "print(tree.right.left.value)\n",
    "print(tree.right.right.value)\n",
    "#third layer\n",
    "print(tree.left.left.left.value)\n",
    "print(tree.left.left.right.value)\n",
    "print(tree.left.right.left.value)\n",
    "print(tree.left.right.right.value)\n",
    "print(tree.right.left.left.value)\n",
    "print(tree.right.left.right.value)\n",
    "print(tree.right.right.left.value)\n",
    "print(tree.right.right.right.value)"
   ]
  },
  {
   "cell_type": "markdown",
   "metadata": {},
   "source": [
    "Looks good!"
   ]
  }
 ],
 "metadata": {
  "anaconda-cloud": {},
  "kernelspec": {
   "display_name": "Environment (conda_dspy3)",
   "language": "python",
   "name": "conda_dspy3"
  },
  "language_info": {
   "codemirror_mode": {
    "name": "ipython",
    "version": 3
   },
   "file_extension": ".py",
   "mimetype": "text/x-python",
   "name": "python",
   "nbconvert_exporter": "python",
   "pygments_lexer": "ipython3",
   "version": "3.6.2"
  }
 },
 "nbformat": 4,
 "nbformat_minor": 2
}
